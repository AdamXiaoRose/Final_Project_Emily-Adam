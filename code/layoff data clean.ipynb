{
 "cells": [
  {
   "cell_type": "code",
   "execution_count": 2,
   "id": "7980b74a-80ec-4d10-a47e-7ceaf2cf5f71",
   "metadata": {},
   "outputs": [],
   "source": [
    "# set up\n",
    "import pandas as pd\n",
    "import os"
   ]
  },
  {
   "cell_type": "code",
   "execution_count": 6,
   "id": "001156a8-d976-4734-a8c8-d5d545920c1d",
   "metadata": {},
   "outputs": [],
   "source": [
    "# load the layoff data\n",
    "layoff_data = pd.read_csv(\"layoff data.csv\")"
   ]
  },
  {
   "cell_type": "code",
   "execution_count": 8,
   "id": "b580c00c-9fe8-43b3-bc7e-7c703bf65735",
   "metadata": {},
   "outputs": [
    {
     "name": "stdout",
     "output_type": "stream",
     "text": [
      "          Company     Location  # Laid Off        Date    %    Industry  \\\n",
      "0             AMD  SF Bay Area      1000.0  11/13/2024   4%    Hardware   \n",
      "1        AppLovin  SF Bay Area       120.0  11/13/2024  21%   Marketing   \n",
      "2           Chegg  SF Bay Area       319.0  11/13/2024  17%   Education   \n",
      "3  Enphase Energy  SF Bay Area       500.0  11/11/2024  17%      Energy   \n",
      "4         23andMe  SF Bay Area       200.0  11/11/2024  40%  Healthcare   \n",
      "\n",
      "                     Source     Stage $ Raised        Country  Date Added  \n",
      "0    https://www.techope...  Post-IPO  $1,600   United States  11/13/2024  \n",
      "1  https://www.sfgate.co...  Post-IPO    $227   United States  11/16/2024  \n",
      "2   https://www.wsj.com/...  Post-IPO    $116   United States  11/13/2024  \n",
      "3  https://www.sfgate.co...  Post-IPO  $1,100   United States  11/11/2024  \n",
      "4   https://www.wsj.com/...  Post-IPO    $484   United States  11/11/2024  \n"
     ]
    }
   ],
   "source": [
    "# show the head of the data\n",
    "\n",
    "print(layoff_data.head(5))"
   ]
  },
  {
   "cell_type": "code",
   "execution_count": 16,
   "id": "c71686cd-cfe4-409c-bd33-db98ca69f58e",
   "metadata": {},
   "outputs": [
    {
     "name": "stdout",
     "output_type": "stream",
     "text": [
      "          Company     Location  # Laid Off        Date    %    Industry  \\\n",
      "0             AMD  SF Bay Area      1000.0  11/13/2024   4%    Hardware   \n",
      "1        AppLovin  SF Bay Area       120.0  11/13/2024  21%   Marketing   \n",
      "2           Chegg  SF Bay Area       319.0  11/13/2024  17%   Education   \n",
      "3  Enphase Energy  SF Bay Area       500.0  11/11/2024  17%      Energy   \n",
      "4         23andMe  SF Bay Area       200.0  11/11/2024  40%  Healthcare   \n",
      "\n",
      "  $ Raised  \n",
      "0  $1,600   \n",
      "1    $227   \n",
      "2    $116   \n",
      "3  $1,100   \n",
      "4    $484   \n"
     ]
    }
   ],
   "source": [
    "# drop the unnecessary columns\n",
    "data_without_unnecessary_columns = layoff_data.drop(columns = ['Source', 'Country', 'Stage', 'Date Added'])\n",
    "\n",
    "# show the results\n",
    "print(data_without_unnecessary_columns.head(5))"
   ]
  },
  {
   "cell_type": "code",
   "execution_count": 20,
   "id": "c6122bfb-904a-4171-97b1-d5913170098a",
   "metadata": {},
   "outputs": [],
   "source": [
    "# We want to store the company column as an independent csv in order to scrape the data of stock price\n",
    "Company_list = layoff_data[['Company']] # and I want it to be stored as a DataFrame type \n",
    "\n",
    "# save to csv\n",
    "Company_list.to_csv(\"Company_list.csv\", index = False)"
   ]
  },
  {
   "cell_type": "code",
   "execution_count": null,
   "id": "73de68e9-8c6a-4310-a304-119f8ce2c167",
   "metadata": {},
   "outputs": [],
   "source": []
  }
 ],
 "metadata": {
  "kernelspec": {
   "display_name": "Python 3 (ipykernel)",
   "language": "python",
   "name": "python3"
  },
  "language_info": {
   "codemirror_mode": {
    "name": "ipython",
    "version": 3
   },
   "file_extension": ".py",
   "mimetype": "text/x-python",
   "name": "python",
   "nbconvert_exporter": "python",
   "pygments_lexer": "ipython3",
   "version": "3.12.4"
  }
 },
 "nbformat": 4,
 "nbformat_minor": 5
}
