{
 "cells": [
  {
   "cell_type": "code",
   "execution_count": 2,
   "id": "588ef648-eee5-4296-8d65-f8b42eb633d3",
   "metadata": {},
   "outputs": [],
   "source": [
    "import pandas as pd\n",
    "import os"
   ]
  },
  {
   "cell_type": "code",
   "execution_count": 6,
   "id": "1578afc5-eb4c-45b1-b214-12a4e3496398",
   "metadata": {},
   "outputs": [],
   "source": [
    "'''\n",
    "We used screenshots and GPT's scanning capabilities to extract all the required layoff data. \n",
    "This section focuses on merging the CSV file results obtained from each screenshot.\n",
    "'''\n",
    "\n",
    "csv_folder = \"D:/Georgetown/data science/Final Project/data\"\n",
    "output_file = \"layoff data.csv\"\n",
    "\n",
    "csv_files = [file for file in os.listdir(csv_folder) if file.endswith('.csv')]\n",
    "\n",
    "dataframe = []\n",
    "\n",
    "for file in csv_files:\n",
    "    file_path = os.path.join(csv_folder, file)\n",
    "    df = pd.read_csv(file_path)\n",
    "    dataframe.append(df)\n",
    "\n",
    "layoff_df = pd.concat(dataframe, ignore_index = True)\n",
    "\n"
   ]
  },
  {
   "cell_type": "code",
   "execution_count": 8,
   "id": "5dfb6520-5399-47ba-b059-3ea59e2db1f0",
   "metadata": {},
   "outputs": [
    {
     "name": "stdout",
     "output_type": "stream",
     "text": [
      "文件已合并并保存为 layoff data.csv\n"
     ]
    }
   ],
   "source": [
    "# save as a new file\n",
    "layoff_df.to_csv(output_file, index=False, encoding='utf-8')\n",
    "\n",
    "print(f\"File has been saved as {output_file}\")"
   ]
  },
  {
   "cell_type": "code",
   "execution_count": null,
   "id": "c6aba49c-1198-4a6e-8063-3da15c5d27d8",
   "metadata": {},
   "outputs": [],
   "source": []
  }
 ],
 "metadata": {
  "kernelspec": {
   "display_name": "Python 3 (ipykernel)",
   "language": "python",
   "name": "python3"
  },
  "language_info": {
   "codemirror_mode": {
    "name": "ipython",
    "version": 3
   },
   "file_extension": ".py",
   "mimetype": "text/x-python",
   "name": "python",
   "nbconvert_exporter": "python",
   "pygments_lexer": "ipython3",
   "version": "3.12.4"
  }
 },
 "nbformat": 4,
 "nbformat_minor": 5
}
