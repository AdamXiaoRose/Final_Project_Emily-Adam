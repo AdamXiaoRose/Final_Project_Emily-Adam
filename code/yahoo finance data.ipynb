{
 "cells": [
  {
   "cell_type": "code",
   "execution_count": 5,
   "id": "ae360535-034e-4418-9556-4947fc677233",
   "metadata": {},
   "outputs": [
    {
     "name": "stdout",
     "output_type": "stream",
     "text": [
      "Collecting yfinance\n",
      "  Downloading yfinance-0.2.50-py2.py3-none-any.whl.metadata (5.5 kB)\n",
      "Requirement already satisfied: pandas>=1.3.0 in d:\\soft\\anaconda\\lib\\site-packages (from yfinance) (2.2.2)\n",
      "Requirement already satisfied: numpy>=1.16.5 in d:\\soft\\anaconda\\lib\\site-packages (from yfinance) (1.26.4)\n",
      "Requirement already satisfied: requests>=2.31 in d:\\soft\\anaconda\\lib\\site-packages (from yfinance) (2.32.2)\n",
      "Collecting multitasking>=0.0.7 (from yfinance)\n",
      "  Downloading multitasking-0.0.11-py3-none-any.whl.metadata (5.5 kB)\n",
      "Requirement already satisfied: lxml>=4.9.1 in d:\\soft\\anaconda\\lib\\site-packages (from yfinance) (5.2.1)\n",
      "Requirement already satisfied: platformdirs>=2.0.0 in d:\\soft\\anaconda\\lib\\site-packages (from yfinance) (3.10.0)\n",
      "Requirement already satisfied: pytz>=2022.5 in d:\\soft\\anaconda\\lib\\site-packages (from yfinance) (2024.1)\n",
      "Requirement already satisfied: frozendict>=2.3.4 in d:\\soft\\anaconda\\lib\\site-packages (from yfinance) (2.4.2)\n",
      "Collecting peewee>=3.16.2 (from yfinance)\n",
      "  Downloading peewee-3.17.8.tar.gz (948 kB)\n",
      "     ---------------------------------------- 0.0/948.2 kB ? eta -:--:--\n",
      "     - -------------------------------------- 30.7/948.2 kB ? eta -:--:--\n",
      "     -- ------------------------------------ 71.7/948.2 kB 2.0 MB/s eta 0:00:01\n",
      "     -------- ----------------------------- 204.8/948.2 kB 3.1 MB/s eta 0:00:01\n",
      "     ----------------- -------------------- 430.1/948.2 kB 3.9 MB/s eta 0:00:01\n",
      "     -------------------- ----------------- 512.0/948.2 kB 3.6 MB/s eta 0:00:01\n",
      "     -------------------------- ----------- 665.6/948.2 kB 3.2 MB/s eta 0:00:01\n",
      "     -------------------------------------- 948.2/948.2 kB 4.0 MB/s eta 0:00:00\n",
      "  Installing build dependencies: started\n",
      "  Installing build dependencies: finished with status 'done'\n",
      "  Getting requirements to build wheel: started\n",
      "  Getting requirements to build wheel: finished with status 'done'\n",
      "  Preparing metadata (pyproject.toml): started\n",
      "  Preparing metadata (pyproject.toml): finished with status 'done'\n",
      "Requirement already satisfied: beautifulsoup4>=4.11.1 in d:\\soft\\anaconda\\lib\\site-packages (from yfinance) (4.12.3)\n",
      "Collecting html5lib>=1.1 (from yfinance)\n",
      "  Downloading html5lib-1.1-py2.py3-none-any.whl.metadata (16 kB)\n",
      "Requirement already satisfied: soupsieve>1.2 in d:\\soft\\anaconda\\lib\\site-packages (from beautifulsoup4>=4.11.1->yfinance) (2.5)\n",
      "Requirement already satisfied: six>=1.9 in d:\\soft\\anaconda\\lib\\site-packages (from html5lib>=1.1->yfinance) (1.16.0)\n",
      "Requirement already satisfied: webencodings in d:\\soft\\anaconda\\lib\\site-packages (from html5lib>=1.1->yfinance) (0.5.1)\n",
      "Requirement already satisfied: python-dateutil>=2.8.2 in d:\\soft\\anaconda\\lib\\site-packages (from pandas>=1.3.0->yfinance) (2.9.0.post0)\n",
      "Requirement already satisfied: tzdata>=2022.7 in d:\\soft\\anaconda\\lib\\site-packages (from pandas>=1.3.0->yfinance) (2023.3)\n",
      "Requirement already satisfied: charset-normalizer<4,>=2 in d:\\soft\\anaconda\\lib\\site-packages (from requests>=2.31->yfinance) (2.0.4)\n",
      "Requirement already satisfied: idna<4,>=2.5 in d:\\soft\\anaconda\\lib\\site-packages (from requests>=2.31->yfinance) (3.7)\n",
      "Requirement already satisfied: urllib3<3,>=1.21.1 in d:\\soft\\anaconda\\lib\\site-packages (from requests>=2.31->yfinance) (2.2.2)\n",
      "Requirement already satisfied: certifi>=2017.4.17 in d:\\soft\\anaconda\\lib\\site-packages (from requests>=2.31->yfinance) (2024.7.4)\n",
      "Downloading yfinance-0.2.50-py2.py3-none-any.whl (102 kB)\n",
      "   ---------------------------------------- 0.0/102.2 kB ? eta -:--:--\n",
      "   ---------------------------------------- 102.2/102.2 kB 6.1 MB/s eta 0:00:00\n",
      "Downloading html5lib-1.1-py2.py3-none-any.whl (112 kB)\n",
      "   ---------------------------------------- 0.0/112.2 kB ? eta -:--:--\n",
      "   ---------------------------------------- 112.2/112.2 kB 6.4 MB/s eta 0:00:00\n",
      "Downloading multitasking-0.0.11-py3-none-any.whl (8.5 kB)\n",
      "Building wheels for collected packages: peewee\n",
      "  Building wheel for peewee (pyproject.toml): started\n",
      "  Building wheel for peewee (pyproject.toml): finished with status 'done'\n",
      "  Created wheel for peewee: filename=peewee-3.17.8-py3-none-any.whl size=139012 sha256=ce6e98533c8f7e1734354da769878352a45bf8d88462151956680c9657ed894e\n",
      "  Stored in directory: c:\\users\\27311\\appdata\\local\\pip\\cache\\wheels\\8f\\65\\34\\456800445efeafb05164fe95285c70e81ba1d96bae30f43917\n",
      "Successfully built peewee\n",
      "Installing collected packages: peewee, multitasking, html5lib, yfinance\n",
      "Successfully installed html5lib-1.1 multitasking-0.0.11 peewee-3.17.8 yfinance-0.2.50\n"
     ]
    }
   ],
   "source": [
    "# download a package from github which is designed to scrape yahoo finance data\n",
    "!pip install yfinance"
   ]
  },
  {
   "cell_type": "code",
   "execution_count": 3,
   "id": "a25d7a2b-8c31-4638-b6fc-0a03c5b53c16",
   "metadata": {},
   "outputs": [],
   "source": [
    "# import the package\n",
    "import yfinance as yf\n",
    "import pandas as pd\n"
   ]
  },
  {
   "cell_type": "code",
   "execution_count": 15,
   "id": "84df2ff4-0d58-4efd-8f2c-87580a27164e",
   "metadata": {},
   "outputs": [
    {
     "name": "stderr",
     "output_type": "stream",
     "text": [
      "[*********************100%***********************]  10 of 10 completed\n"
     ]
    }
   ],
   "source": [
    "tickers_try = ['AAPL', 'MSFT', 'GOOGL', 'AMZN', 'META', 'TSLA', 'NVDA', 'JNJ', 'V', 'WMT']\n",
    "\n",
    "tickers_data = yf.download(tickers_try, start = '2020-01-01', end = '2023-01-01')\n",
    "\n",
    "close_data = tickers_data['Close']\n"
   ]
  },
  {
   "cell_type": "code",
   "execution_count": 17,
   "id": "1dd7bbbf-efcf-4ffc-9854-9687e5474f7b",
   "metadata": {},
   "outputs": [
    {
     "name": "stdout",
     "output_type": "stream",
     "text": [
      "Ticker           AAPL       AMZN      GOOGL         JNJ        META  \\\n",
      "Date                                                                  \n",
      "2020-01-02  75.087502  94.900497  68.433998  145.970001  209.779999   \n",
      "2020-01-03  74.357498  93.748497  68.075996  144.279999  208.669998   \n",
      "2020-01-06  74.949997  95.143997  69.890503  144.100006  212.600006   \n",
      "2020-01-07  74.597504  95.343002  69.755501  144.979996  213.059998   \n",
      "2020-01-08  75.797501  94.598503  70.251999  144.960007  215.220001   \n",
      "\n",
      "Ticker            MSFT     NVDA       TSLA           V        WMT  \n",
      "Date                                                               \n",
      "2020-01-02  160.619995  5.99775  28.684000  191.119995  39.646667  \n",
      "2020-01-03  158.619995  5.90175  29.534000  189.600006  39.296665  \n",
      "2020-01-06  159.029999  5.92650  30.102667  189.190002  39.216667  \n",
      "2020-01-07  157.580002  5.99825  31.270666  188.690002  38.853333  \n",
      "2020-01-08  160.089996  6.00950  32.809334  191.919998  38.720001  \n"
     ]
    }
   ],
   "source": [
    "print(close_data.head(5))"
   ]
  },
  {
   "cell_type": "code",
   "execution_count": 27,
   "id": "0f6d77d2-df6d-4091-b0bf-6a8e342c28e7",
   "metadata": {},
   "outputs": [
    {
     "name": "stdout",
     "output_type": "stream",
     "text": [
      "        Date Stock  Close Price\n",
      "0 2020-01-02  AAPL    75.087502\n",
      "1 2020-01-03  AAPL    74.357498\n",
      "2 2020-01-06  AAPL    74.949997\n",
      "3 2020-01-07  AAPL    74.597504\n",
      "4 2020-01-08  AAPL    75.797501\n"
     ]
    }
   ],
   "source": [
    "from plotnine import *\n",
    "close_data_long = close_data.reset_index().melt(id_vars = 'Date', var_name = 'Stock', value_name = 'Close Price')\n",
    "\n",
    "print(close_data_long.head(5))"
   ]
  },
  {
   "cell_type": "code",
   "execution_count": 2,
   "id": "e6d77a6c-d91d-48b4-b73c-8b793e4e0f77",
   "metadata": {},
   "outputs": [
    {
     "ename": "NameError",
     "evalue": "name 'close_data_long' is not defined",
     "output_type": "error",
     "traceback": [
      "\u001b[1;31m---------------------------------------------------------------------------\u001b[0m",
      "\u001b[1;31mNameError\u001b[0m                                 Traceback (most recent call last)",
      "Cell \u001b[1;32mIn[2], line 3\u001b[0m\n\u001b[0;32m      1\u001b[0m \u001b[38;5;66;03m# This is just for practice and check if the data is available\u001b[39;00m\n\u001b[1;32m----> 3\u001b[0m AMZN_data \u001b[38;5;241m=\u001b[39m close_data_long[close_data_long[\u001b[38;5;124m'\u001b[39m\u001b[38;5;124mStock\u001b[39m\u001b[38;5;124m'\u001b[39m] \u001b[38;5;241m==\u001b[39m \u001b[38;5;124m'\u001b[39m\u001b[38;5;124mAMZN\u001b[39m\u001b[38;5;124m'\u001b[39m]\n\u001b[0;32m      6\u001b[0m plot_try \u001b[38;5;241m=\u001b[39m (ggplot(AMZN_data, aes(x \u001b[38;5;241m=\u001b[39m \u001b[38;5;124m'\u001b[39m\u001b[38;5;124mDate\u001b[39m\u001b[38;5;124m'\u001b[39m, y \u001b[38;5;241m=\u001b[39m \u001b[38;5;124m'\u001b[39m\u001b[38;5;124mClose Price\u001b[39m\u001b[38;5;124m'\u001b[39m))\n\u001b[0;32m      7\u001b[0m        \u001b[38;5;241m+\u001b[39m geom_line(aes(color \u001b[38;5;241m=\u001b[39m \u001b[38;5;124m'\u001b[39m\u001b[38;5;124mClose Price\u001b[39m\u001b[38;5;124m'\u001b[39m), size \u001b[38;5;241m=\u001b[39m \u001b[38;5;241m0.3\u001b[39m)\n\u001b[0;32m      8\u001b[0m        \u001b[38;5;241m+\u001b[39m scale_color_gradient(low \u001b[38;5;241m=\u001b[39m \u001b[38;5;124m'\u001b[39m\u001b[38;5;124mblue\u001b[39m\u001b[38;5;124m'\u001b[39m, high \u001b[38;5;241m=\u001b[39m \u001b[38;5;124m'\u001b[39m\u001b[38;5;124mred\u001b[39m\u001b[38;5;124m'\u001b[39m)\n\u001b[1;32m   (...)\u001b[0m\n\u001b[0;32m     20\u001b[0m        \u001b[38;5;241m+\u001b[39m ylab(\u001b[38;5;124m'\u001b[39m\u001b[38;5;124mClose Price(USD)\u001b[39m\u001b[38;5;124m'\u001b[39m)\n\u001b[0;32m     21\u001b[0m        \u001b[38;5;241m+\u001b[39m scale_y_continuous(labels\u001b[38;5;241m=\u001b[39m\u001b[38;5;28;01mlambda\u001b[39;00m x: [\u001b[38;5;124mf\u001b[39m\u001b[38;5;124m\"\u001b[39m\u001b[38;5;124m$\u001b[39m\u001b[38;5;132;01m{\u001b[39;00mi\u001b[38;5;132;01m:\u001b[39;00m\u001b[38;5;124m,.2f\u001b[39m\u001b[38;5;132;01m}\u001b[39;00m\u001b[38;5;124m\"\u001b[39m \u001b[38;5;28;01mfor\u001b[39;00m i \u001b[38;5;129;01min\u001b[39;00m x])) \u001b[38;5;66;03m# 美化 Y 轴为美元格式\u001b[39;00m\n\u001b[0;32m     23\u001b[0m \u001b[38;5;28mprint\u001b[39m(plot_try)\n",
      "\u001b[1;31mNameError\u001b[0m: name 'close_data_long' is not defined"
     ]
    }
   ],
   "source": [
    "# This is just for practice and check if the data is available\n",
    "\n",
    "AMZN_data = close_data_long[close_data_long['Stock'] == 'AMZN']\n",
    "\n",
    "\n",
    "plot_try = (ggplot(AMZN_data, aes(x = 'Date', y = 'Close Price'))\n",
    "       + geom_line(aes(color = 'Close Price'), size = 0.3)\n",
    "       + scale_color_gradient(low = 'blue', high = 'red')\n",
    "       + theme(\n",
    "        text=element_text(family=\"Arial\", size=12, color=\"darkblue\"),  # 美化文字\n",
    "        plot_title=element_text(size=16, weight=\"bold\", color=\"darkred\"),  # 标题美化\n",
    "        axis_title=element_text(size=14, weight=\"bold\"),  # 坐标轴标题美化\n",
    "        axis_text=element_text(size=10, color=\"gray\"),  # 坐标轴标签美化\n",
    "        legend_position=\"right\",  # 图例放右边\n",
    "        panel_background=element_rect(fill=\"lavenderblush\", alpha=0.7),  # 面板背景颜色\n",
    "        panel_grid_major=element_line(size=0.5, linetype=\"dashed\", color=\"gray\")  # 网格线样式\n",
    "    )     \n",
    "       + ggtitle('Amazon Stock Closing Prices Over Time')\n",
    "       + xlab('Date')\n",
    "       + ylab('Close Price(USD)')\n",
    "       + scale_y_continuous(labels=lambda x: [f\"${i:,.2f}\" for i in x])) # 美化 Y 轴为美元格式\n",
    "\n",
    "print(plot_try)"
   ]
  }
 ],
 "metadata": {
  "kernelspec": {
   "display_name": "Python 3 (ipykernel)",
   "language": "python",
   "name": "python3"
  },
  "language_info": {
   "codemirror_mode": {
    "name": "ipython",
    "version": 3
   },
   "file_extension": ".py",
   "mimetype": "text/x-python",
   "name": "python",
   "nbconvert_exporter": "python",
   "pygments_lexer": "ipython3",
   "version": "3.12.4"
  }
 },
 "nbformat": 4,
 "nbformat_minor": 5
}
